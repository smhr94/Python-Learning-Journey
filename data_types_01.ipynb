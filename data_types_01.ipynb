{
  "nbformat": 4,
  "nbformat_minor": 0,
  "metadata": {
    "colab": {
      "provenance": [],
      "authorship_tag": "ABX9TyM2ZSlIPGbX0S3yXP5ktMjd",
      "include_colab_link": true
    },
    "kernelspec": {
      "name": "python3",
      "display_name": "Python 3"
    },
    "language_info": {
      "name": "python"
    }
  },
  "cells": [
    {
      "cell_type": "markdown",
      "metadata": {
        "id": "view-in-github",
        "colab_type": "text"
      },
      "source": [
        "<a href=\"https://colab.research.google.com/github/smhr94/Python-Learning-Journey/blob/main/Copy_of_Untitled1.ipynb\" target=\"_parent\"><img src=\"https://colab.research.google.com/assets/colab-badge.svg\" alt=\"Open In Colab\"/></a>"
      ]
    },
    {
      "cell_type": "code",
      "execution_count": null,
      "metadata": {
        "colab": {
          "base_uri": "https://localhost:8080/"
        },
        "id": "-idKSDlWpFSI",
        "outputId": "fb8f1998-75b2-4cca-8420-3f1f9532f879"
      },
      "outputs": [
        {
          "name": "stdout",
          "output_type": "stream",
          "text": [
            "hi\n"
          ]
        }
      ],
      "source": [
        "print('hi')"
      ]
    },
    {
      "cell_type": "code",
      "execution_count": null,
      "metadata": {
        "colab": {
          "base_uri": "https://localhost:8080/"
        },
        "id": "7Jv0TkfEzoz0",
        "outputId": "49169a6d-ce62-4e7a-aa63-76e321ecb049"
      },
      "outputs": [
        {
          "name": "stdout",
          "output_type": "stream",
          "text": [
            "Samaneh\n"
          ]
        }
      ],
      "source": [
        "x = \"Samaneh\"\n",
        "print(x)"
      ]
    },
    {
      "cell_type": "code",
      "execution_count": null,
      "metadata": {
        "colab": {
          "base_uri": "https://localhost:8080/"
        },
        "id": "hTSgDFZdzyO1",
        "outputId": "21b32e31-5d76-491f-fe3b-bf604fcfffdc"
      },
      "outputs": [
        {
          "output_type": "stream",
          "name": "stdout",
          "text": [
            "x =  Samaneh\n"
          ]
        }
      ],
      "source": [
        "x = \"Samaneh\"\n",
        "print(\"x = \",x)"
      ]
    },
    {
      "cell_type": "code",
      "execution_count": null,
      "metadata": {
        "id": "ObIzSBAG0Tn9"
      },
      "outputs": [],
      "source": [
        "x = \"Samaneh\"\n",
        "print(\"x = \", x)"
      ]
    },
    {
      "cell_type": "code",
      "execution_count": null,
      "metadata": {
        "colab": {
          "base_uri": "https://localhost:8080/"
        },
        "id": "VOymHqM90lfe",
        "outputId": "872a64fe-f12b-4513-c303-5487ec37eded"
      },
      "outputs": [
        {
          "data": {
            "text/plain": [
              "str"
            ]
          },
          "execution_count": 19,
          "metadata": {},
          "output_type": "execute_result"
        }
      ],
      "source": [
        "type(x)"
      ]
    },
    {
      "cell_type": "code",
      "execution_count": null,
      "metadata": {
        "colab": {
          "base_uri": "https://localhost:8080/"
        },
        "id": "yKHA5t9qCXuo",
        "outputId": "a6257f48-0882-4217-e6fb-34add22830a1"
      },
      "outputs": [
        {
          "name": "stdout",
          "output_type": "stream",
          "text": [
            "<class 'int'>\n",
            "x =  3\n"
          ]
        }
      ],
      "source": [
        "x = 3\n",
        "print(type(x))\n",
        "print('x = ',x)"
      ]
    },
    {
      "cell_type": "code",
      "execution_count": null,
      "metadata": {
        "colab": {
          "base_uri": "https://localhost:8080/"
        },
        "id": "Wb7WR726GxUh",
        "outputId": "f1e1fd43-9733-4fe5-df27-42ff9d5e9e7e"
      },
      "outputs": [
        {
          "name": "stdout",
          "output_type": "stream",
          "text": [
            "<class 'float'>\n"
          ]
        }
      ],
      "source": [
        "x = 3.5\n",
        "print(type(x))"
      ]
    },
    {
      "cell_type": "code",
      "execution_count": null,
      "metadata": {
        "id": "hU5rYVU0IyjE"
      },
      "outputs": [],
      "source": [
        "z = 2j\n"
      ]
    },
    {
      "cell_type": "code",
      "execution_count": null,
      "metadata": {
        "colab": {
          "base_uri": "https://localhost:8080/"
        },
        "id": "tTz9707_g59I",
        "outputId": "38452f91-58e2-4f80-d293-bbb4a56abab1"
      },
      "outputs": [
        {
          "data": {
            "text/plain": [
              "complex"
            ]
          },
          "execution_count": 3,
          "metadata": {},
          "output_type": "execute_result"
        }
      ],
      "source": [
        "type(z)"
      ]
    },
    {
      "cell_type": "code",
      "execution_count": null,
      "metadata": {
        "colab": {
          "base_uri": "https://localhost:8080/"
        },
        "id": "HMnJhJ4QhEkk",
        "outputId": "ac961b41-9414-486c-f5eb-0dbee62be3cb"
      },
      "outputs": [
        {
          "name": "stdout",
          "output_type": "stream",
          "text": [
            "2.0\n",
            "3.0\n"
          ]
        }
      ],
      "source": [
        "z = 2 + 3j\n",
        "print(z.real)\n",
        "print(z.imag)"
      ]
    },
    {
      "cell_type": "code",
      "execution_count": null,
      "metadata": {
        "colab": {
          "base_uri": "https://localhost:8080/"
        },
        "id": "dvSjfVaDo93x",
        "outputId": "f73a1a3a-ceb8-4cae-8287-fe0260c785d2"
      },
      "outputs": [
        {
          "name": "stdout",
          "output_type": "stream",
          "text": [
            "enter a a:3\n",
            "<class 'str'>\n"
          ]
        }
      ],
      "source": [
        "a = input(\"enter a a:\")\n",
        "print(type(a))"
      ]
    },
    {
      "cell_type": "code",
      "execution_count": null,
      "metadata": {
        "colab": {
          "base_uri": "https://localhost:8080/"
        },
        "id": "72IjGg_DqVWV",
        "outputId": "8cdfe652-2ee4-4b81-f3b8-dd2b25d029d2"
      },
      "outputs": [
        {
          "name": "stdout",
          "output_type": "stream",
          "text": [
            "enter a number:5\n",
            "<class 'int'>\n",
            "8\n"
          ]
        }
      ],
      "source": [
        "a = int(input(\"enter a number:\"))\n",
        "print(type(a))\n",
        "print(a + 3)\n"
      ]
    },
    {
      "cell_type": "code",
      "execution_count": null,
      "metadata": {
        "colab": {
          "background_save": true
        },
        "id": "jVK3gm0zrCR4",
        "outputId": "77914a75-d408-456c-d596-59f281174075"
      },
      "outputs": [
        {
          "name": "stdout",
          "output_type": "stream",
          "text": [
            "False\n"
          ]
        }
      ],
      "source": [
        "b = 4\n",
        "c = 5\n",
        "print(b == c)"
      ]
    },
    {
      "cell_type": "code",
      "execution_count": null,
      "metadata": {
        "colab": {
          "base_uri": "https://localhost:8080/"
        },
        "id": "ZoB_fJa66etx",
        "outputId": "5d1475f6-70f5-4872-eeea-24964aca4955"
      },
      "outputs": [
        {
          "name": "stdout",
          "output_type": "stream",
          "text": [
            "=== WELCOME ===\n",
            "guess a number:42\n",
            "True\n"
          ]
        }
      ],
      "source": [
        "#guessing the number 42!\n",
        "x = 42\n",
        "\n",
        "#introduction\n",
        "print('=== WELCOME ===')\n",
        "\n",
        "#get the guessed number\n",
        "guessed = int(input('guess a number:'))\n",
        "\n",
        "#check if the guess is right\n",
        "print(guessed == x)\n",
        "\n"
      ]
    },
    {
      "cell_type": "code",
      "execution_count": null,
      "metadata": {
        "colab": {
          "base_uri": "https://localhost:8080/"
        },
        "id": "E0iQkIsrQchl",
        "outputId": "657cfd5c-6bbc-4a2d-a703-3dd036f4cfd8"
      },
      "outputs": [
        {
          "name": "stdout",
          "output_type": "stream",
          "text": [
            "enter a length:6\n",
            "enter a width:3\n",
            "Area: 18\n"
          ]
        }
      ],
      "source": [
        "#get the length\n",
        "x = int(input(\"enter a length:\"))\n",
        "\n",
        "#get the width\n",
        "y = int(input(\"enter a width:\"))\n",
        "\n",
        "#Area calculation\n",
        "print(\"Area:\", x * y)\n"
      ]
    }
  ]
}
