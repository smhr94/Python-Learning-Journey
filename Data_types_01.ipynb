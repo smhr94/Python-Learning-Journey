{
  "cells": [
    {
      "cell_type": "markdown",
      "metadata": {
        "id": "view-in-github",
        "colab_type": "text"
      },
      "source": [
        "<a href=\"https://colab.research.google.com/github/smhr94/Python-Learning-Journey/blob/main/Data_types_01.ipynb\" target=\"_parent\"><img src=\"https://colab.research.google.com/assets/colab-badge.svg\" alt=\"Open In Colab\"/></a>"
      ]
    },
    {
      "cell_type": "code",
      "execution_count": null,
      "metadata": {
        "colab": {
          "base_uri": "https://localhost:8080/"
        },
        "id": "-idKSDlWpFSI",
        "outputId": "fb8f1998-75b2-4cca-8420-3f1f9532f879"
      },
      "outputs": [
        {
          "name": "stdout",
          "output_type": "stream",
          "text": [
            "hi\n"
          ]
        }
      ],
      "source": [
        "# function print\n",
        "print('hi')"
      ]
    },
    {
      "cell_type": "code",
      "execution_count": null,
      "metadata": {
        "colab": {
          "base_uri": "https://localhost:8080/"
        },
        "id": "7Jv0TkfEzoz0",
        "outputId": "49169a6d-ce62-4e7a-aa63-76e321ecb049"
      },
      "outputs": [
        {
          "name": "stdout",
          "output_type": "stream",
          "text": [
            "Samaneh\n"
          ]
        }
      ],
      "source": [
        "# str\n",
        "x = \"Samaneh\"\n",
        "print(x)"
      ]
    },
    {
      "cell_type": "code",
      "execution_count": null,
      "metadata": {
        "colab": {
          "base_uri": "https://localhost:8080/"
        },
        "id": "hTSgDFZdzyO1",
        "outputId": "21b32e31-5d76-491f-fe3b-bf604fcfffdc"
      },
      "outputs": [
        {
          "output_type": "stream",
          "name": "stdout",
          "text": [
            "x =  Samaneh\n"
          ]
        }
      ],
      "source": [
        "# str\n",
        "x = \"Samaneh\"\n",
        "print(\"x = \",x)"
      ]
    },
    {
      "cell_type": "code",
      "execution_count": null,
      "metadata": {
        "colab": {
          "base_uri": "https://localhost:8080/"
        },
        "id": "VOymHqM90lfe",
        "outputId": "872a64fe-f12b-4513-c303-5487ec37eded"
      },
      "outputs": [
        {
          "data": {
            "text/plain": [
              "str"
            ]
          },
          "execution_count": 19,
          "metadata": {},
          "output_type": "execute_result"
        }
      ],
      "source": [
        "# function type\n",
        "type(x)"
      ]
    },
    {
      "cell_type": "code",
      "execution_count": null,
      "metadata": {
        "colab": {
          "base_uri": "https://localhost:8080/"
        },
        "id": "yKHA5t9qCXuo",
        "outputId": "a6257f48-0882-4217-e6fb-34add22830a1"
      },
      "outputs": [
        {
          "name": "stdout",
          "output_type": "stream",
          "text": [
            "<class 'int'>\n",
            "x =  3\n"
          ]
        }
      ],
      "source": [
        "# int\n",
        "x = 3\n",
        "print(type(x))\n",
        "print('x = ',x)"
      ]
    },
    {
      "cell_type": "code",
      "execution_count": null,
      "metadata": {
        "colab": {
          "base_uri": "https://localhost:8080/"
        },
        "id": "Wb7WR726GxUh",
        "outputId": "f1e1fd43-9733-4fe5-df27-42ff9d5e9e7e"
      },
      "outputs": [
        {
          "name": "stdout",
          "output_type": "stream",
          "text": [
            "<class 'float'>\n"
          ]
        }
      ],
      "source": [
        "# float\n",
        "x = 3.5\n",
        "print(type(x))"
      ]
    },
    {
      "cell_type": "code",
      "execution_count": null,
      "metadata": {
        "id": "hU5rYVU0IyjE"
      },
      "outputs": [],
      "source": [
        "# complex\n",
        "z = 2j"
      ]
    },
    {
      "cell_type": "code",
      "execution_count": null,
      "metadata": {
        "colab": {
          "base_uri": "https://localhost:8080/"
        },
        "id": "tTz9707_g59I",
        "outputId": "38452f91-58e2-4f80-d293-bbb4a56abab1"
      },
      "outputs": [
        {
          "data": {
            "text/plain": [
              "complex"
            ]
          },
          "execution_count": 3,
          "metadata": {},
          "output_type": "execute_result"
        }
      ],
      "source": [
        "type(z)"
      ]
    },
    {
      "cell_type": "code",
      "execution_count": null,
      "metadata": {
        "colab": {
          "base_uri": "https://localhost:8080/"
        },
        "id": "HMnJhJ4QhEkk",
        "outputId": "ac961b41-9414-486c-f5eb-0dbee62be3cb"
      },
      "outputs": [
        {
          "name": "stdout",
          "output_type": "stream",
          "text": [
            "2.0\n",
            "3.0\n"
          ]
        }
      ],
      "source": [
        "# complex\n",
        "z = 2 + 3j\n",
        "print(z.real)\n",
        "print(z.imag)"
      ]
    },
    {
      "cell_type": "code",
      "execution_count": null,
      "metadata": {
        "colab": {
          "base_uri": "https://localhost:8080/"
        },
        "id": "dvSjfVaDo93x",
        "outputId": "f73a1a3a-ceb8-4cae-8287-fe0260c785d2"
      },
      "outputs": [
        {
          "name": "stdout",
          "output_type": "stream",
          "text": [
            "enter a a:3\n",
            "<class 'str'>\n"
          ]
        }
      ],
      "source": [
        "# function input\n",
        "a = input(\"enter a a:\")\n",
        "print(type(a))"
      ]
    },
    {
      "cell_type": "code",
      "execution_count": null,
      "metadata": {
        "colab": {
          "base_uri": "https://localhost:8080/"
        },
        "id": "72IjGg_DqVWV",
        "outputId": "8cdfe652-2ee4-4b81-f3b8-dd2b25d029d2"
      },
      "outputs": [
        {
          "name": "stdout",
          "output_type": "stream",
          "text": [
            "enter a number:5\n",
            "<class 'int'>\n",
            "8\n"
          ]
        }
      ],
      "source": [
        "# change function input type\n",
        "a = int(input(\"enter a number:\"))\n",
        "print(type(a))\n",
        "print(a + 3)\n"
      ]
    },
    {
      "cell_type": "code",
      "execution_count": null,
      "metadata": {
        "colab": {
          "background_save": true
        },
        "id": "jVK3gm0zrCR4",
        "outputId": "77914a75-d408-456c-d596-59f281174075"
      },
      "outputs": [
        {
          "name": "stdout",
          "output_type": "stream",
          "text": [
            "False\n"
          ]
        }
      ],
      "source": [
        "# bool\n",
        "b = 4\n",
        "c = 5\n",
        "print(b == c)"
      ]
    },
    {
      "cell_type": "code",
      "execution_count": null,
      "metadata": {
        "colab": {
          "base_uri": "https://localhost:8080/"
        },
        "id": "ZoB_fJa66etx",
        "outputId": "5d1475f6-70f5-4872-eeea-24964aca4955"
      },
      "outputs": [
        {
          "name": "stdout",
          "output_type": "stream",
          "text": [
            "=== WELCOME ===\n",
            "guess a number:42\n",
            "True\n"
          ]
        }
      ],
      "source": [
        "#guessing the number 42!\n",
        "x = 42\n",
        "\n",
        "#introduction\n",
        "print('=== WELCOME ===')\n",
        "\n",
        "#get the guessed number\n",
        "guessed = int(input('guess a number:'))\n",
        "\n",
        "#check if the guess is right\n",
        "print(guessed == x)\n",
        "\n"
      ]
    },
    {
      "cell_type": "code",
      "execution_count": null,
      "metadata": {
        "colab": {
          "base_uri": "https://localhost:8080/"
        },
        "id": "E0iQkIsrQchl",
        "outputId": "657cfd5c-6bbc-4a2d-a703-3dd036f4cfd8"
      },
      "outputs": [
        {
          "name": "stdout",
          "output_type": "stream",
          "text": [
            "enter a length:6\n",
            "enter a width:3\n",
            "Area: 18\n"
          ]
        }
      ],
      "source": [
        "#get the length\n",
        "x = int(input(\"enter a length:\"))\n",
        "\n",
        "#get the width\n",
        "y = int(input(\"enter a width:\"))\n",
        "\n",
        "#Area calculation\n",
        "print(\"Area:\", x * y)\n"
      ]
    },
    {
      "cell_type": "code",
      "execution_count": null,
      "metadata": {
        "id": "bQ6SypFxydK2"
      },
      "outputs": [],
      "source": [
        "# list\n",
        "\n",
        "my_list1 = [0,1,2,3,4,['a','b'],4.5,7j,'h']\n",
        "my_list2 = [\"Apple\",\"Orange\",\"Pear\"]\n"
      ]
    },
    {
      "cell_type": "code",
      "execution_count": null,
      "metadata": {
        "colab": {
          "base_uri": "https://localhost:8080/",
          "height": 35
        },
        "id": "zqQcHkN50L5L",
        "outputId": "ccf66d9a-2592-4de7-d60f-a7cf3cf15513"
      },
      "outputs": [
        {
          "output_type": "execute_result",
          "data": {
            "text/plain": [
              "'Apple'"
            ],
            "application/vnd.google.colaboratory.intrinsic+json": {
              "type": "string"
            }
          },
          "metadata": {},
          "execution_count": 20
        }
      ],
      "source": [
        "# use index in list\n",
        "my_list2[0]"
      ]
    },
    {
      "cell_type": "code",
      "execution_count": null,
      "metadata": {
        "colab": {
          "base_uri": "https://localhost:8080/"
        },
        "id": "4323F2YE0ffe",
        "outputId": "47374ac5-075f-4229-f876-f683dafcecdf"
      },
      "outputs": [
        {
          "data": {
            "text/plain": [
              "['a', 'b']"
            ]
          },
          "execution_count": 7,
          "metadata": {},
          "output_type": "execute_result"
        }
      ],
      "source": [
        "# use index in list\n",
        "my_list1[5]"
      ]
    },
    {
      "cell_type": "code",
      "execution_count": null,
      "metadata": {
        "colab": {
          "base_uri": "https://localhost:8080/"
        },
        "id": "dqPu4mUP0oqk",
        "outputId": "63c36634-d5e9-4770-fff8-e81b8ca00bf5"
      },
      "outputs": [
        {
          "output_type": "execute_result",
          "data": {
            "text/plain": [
              "['Apple', 'Orange', 'Pear']"
            ]
          },
          "metadata": {},
          "execution_count": 21
        }
      ],
      "source": [
        "# slicing in list\n",
        "my_list2[0:3]"
      ]
    },
    {
      "cell_type": "code",
      "execution_count": null,
      "metadata": {
        "colab": {
          "base_uri": "https://localhost:8080/"
        },
        "id": "f1I5ywDf-CY0",
        "outputId": "3024e4a0-f27e-46cc-b699-e10a77959657"
      },
      "outputs": [
        {
          "output_type": "execute_result",
          "data": {
            "text/plain": [
              "[1, 3, ['a', 'b']]"
            ]
          },
          "metadata": {},
          "execution_count": 25
        }
      ],
      "source": [
        "# slicing in list\n",
        "my_list1[1:6:2]"
      ]
    },
    {
      "cell_type": "code",
      "execution_count": null,
      "metadata": {
        "colab": {
          "base_uri": "https://localhost:8080/"
        },
        "id": "0gXcKs6A_C6m",
        "outputId": "b9cda31b-cc68-4216-c8b1-56a7f287d1b5"
      },
      "outputs": [
        {
          "name": "stdout",
          "output_type": "stream",
          "text": [
            "['Apple', 'Orange', 'Pear'] , <class 'list'>\n"
          ]
        }
      ],
      "source": [
        "# print and type function\n",
        "print(my_list2, ',', type(my_list2))"
      ]
    },
    {
      "cell_type": "code",
      "execution_count": null,
      "metadata": {
        "colab": {
          "base_uri": "https://localhost:8080/"
        },
        "id": "PkhvTvlG_h9e",
        "outputId": "7c394a36-f715-48a1-e9d4-3555e35a04b2"
      },
      "outputs": [
        {
          "data": {
            "text/plain": [
              "[2, 3, 4, ['a', 'b'], 4.5, 7j, 'h']"
            ]
          },
          "execution_count": 11,
          "metadata": {},
          "output_type": "execute_result"
        }
      ],
      "source": [
        "# slicing in list\n",
        "my_list1[2:]"
      ]
    },
    {
      "cell_type": "code",
      "execution_count": null,
      "metadata": {
        "colab": {
          "base_uri": "https://localhost:8080/"
        },
        "id": "qAou-DvYAL8H",
        "outputId": "4c1c6f44-c37d-4323-e164-e2a0b7ab788e"
      },
      "outputs": [
        {
          "data": {
            "text/plain": [
              "[0, 1]"
            ]
          },
          "execution_count": 12,
          "metadata": {},
          "output_type": "execute_result"
        }
      ],
      "source": [
        "# slicing in list\n",
        "my_list1[:2]"
      ]
    },
    {
      "cell_type": "code",
      "execution_count": null,
      "metadata": {
        "colab": {
          "base_uri": "https://localhost:8080/"
        },
        "id": "yNE-ieaTAanj",
        "outputId": "cdda6fd9-2aad-4ee9-bafc-801d706a9181"
      },
      "outputs": [
        {
          "output_type": "execute_result",
          "data": {
            "text/plain": [
              "['a', 'b']"
            ]
          },
          "metadata": {},
          "execution_count": 23
        }
      ],
      "source": [
        "# use index in list\n",
        "my_list1[5]"
      ]
    },
    {
      "cell_type": "code",
      "execution_count": null,
      "metadata": {
        "colab": {
          "base_uri": "https://localhost:8080/",
          "height": 35
        },
        "id": "HawCZ2tjBBP4",
        "outputId": "0487a91c-1b50-4297-c380-d9cb36be32fa"
      },
      "outputs": [
        {
          "data": {
            "application/vnd.google.colaboratory.intrinsic+json": {
              "type": "string"
            },
            "text/plain": [
              "'a'"
            ]
          },
          "execution_count": 15,
          "metadata": {},
          "output_type": "execute_result"
        }
      ],
      "source": [
        "# use index in list\n",
        "my_list1[5][0]"
      ]
    },
    {
      "cell_type": "code",
      "execution_count": null,
      "metadata": {
        "id": "y_95qyoaBQqf"
      },
      "outputs": [],
      "source": [
        "# list\n",
        "\n",
        "my_list1 = [0,1,2,3,4,['a','b'],4.5,7j,'h']\n",
        "my_list2 = [\"Apple\",\"Orange\",\"Pear\"]"
      ]
    },
    {
      "cell_type": "code",
      "execution_count": null,
      "metadata": {
        "colab": {
          "base_uri": "https://localhost:8080/",
          "height": 35
        },
        "id": "OjzfzMa7Ces9",
        "outputId": "0d8ca333-060e-47f8-dbc9-ebf13f863c6b"
      },
      "outputs": [
        {
          "data": {
            "application/vnd.google.colaboratory.intrinsic+json": {
              "type": "string"
            },
            "text/plain": [
              "'h'"
            ]
          },
          "execution_count": 8,
          "metadata": {},
          "output_type": "execute_result"
        }
      ],
      "source": [
        "# use negative index in list\n",
        "my_list1[-1]"
      ]
    },
    {
      "cell_type": "code",
      "execution_count": null,
      "metadata": {
        "colab": {
          "base_uri": "https://localhost:8080/"
        },
        "id": "nDCphpocCiGl",
        "outputId": "5fd3b721-0357-44c0-d769-2d374db2fa2d"
      },
      "outputs": [
        {
          "output_type": "execute_result",
          "data": {
            "text/plain": [
              "['a', 'b']"
            ]
          },
          "metadata": {},
          "execution_count": 24
        }
      ],
      "source": [
        "# use negative index in list\n",
        "my_list1[-4]\n"
      ]
    },
    {
      "cell_type": "code",
      "execution_count": null,
      "metadata": {
        "colab": {
          "base_uri": "https://localhost:8080/"
        },
        "id": "M4m6VzEzCsb8",
        "outputId": "00a84058-9d49-4c09-d310-e698bc07f27c"
      },
      "outputs": [
        {
          "data": {
            "text/plain": [
              "[['a', 'b'], 4.5, 7j]"
            ]
          },
          "execution_count": 7,
          "metadata": {},
          "output_type": "execute_result"
        }
      ],
      "source": [
        "# slicing in list\n",
        "my_list1[-4:-1]"
      ]
    },
    {
      "cell_type": "code",
      "execution_count": null,
      "metadata": {
        "id": "5MFHllE5_sH-"
      },
      "outputs": [],
      "source": [
        "# list\n",
        "\n",
        "my_list1 = [0,1,2,3,4,['a','b'],4.5,7j,'h']\n",
        "my_list2 = [\"Apple\",\"Orange\",\"Pear\"]"
      ]
    },
    {
      "cell_type": "code",
      "execution_count": null,
      "metadata": {
        "id": "kb1NZKs8_4Dc"
      },
      "outputs": [],
      "source": [
        "# Value in list\n",
        "my_list1[0] = 10"
      ]
    },
    {
      "cell_type": "code",
      "execution_count": null,
      "metadata": {
        "colab": {
          "base_uri": "https://localhost:8080/"
        },
        "id": "lhsSiqvWAAu6",
        "outputId": "09af097e-6acb-483a-b399-e1bf81475b10"
      },
      "outputs": [
        {
          "data": {
            "text/plain": [
              "10"
            ]
          },
          "execution_count": 10,
          "metadata": {},
          "output_type": "execute_result"
        }
      ],
      "source": [
        "my_list1[0]"
      ]
    },
    {
      "cell_type": "code",
      "execution_count": null,
      "metadata": {
        "colab": {
          "base_uri": "https://localhost:8080/"
        },
        "id": "eiWq3cupAIln",
        "outputId": "2600aa0d-8a6a-49a5-f9a8-fecb82ca9389"
      },
      "outputs": [
        {
          "output_type": "stream",
          "name": "stdout",
          "text": [
            "<class 'tuple'>\n"
          ]
        }
      ],
      "source": [
        "# tuple\n",
        "tuple_1 = (3, 4.5,'s')\n",
        "print(type(tuple_1))"
      ]
    },
    {
      "cell_type": "code",
      "source": [
        "# Tuples are immutable.\n",
        "tuple_1[0] = 10"
      ],
      "metadata": {
        "id": "GGGVjgd1qw0k"
      },
      "execution_count": null,
      "outputs": []
    },
    {
      "cell_type": "code",
      "execution_count": null,
      "metadata": {
        "id": "uVHwyQ9GErQe"
      },
      "outputs": [],
      "source": [
        "# str\n",
        "str_1 = 'samaneh'"
      ]
    },
    {
      "cell_type": "code",
      "execution_count": null,
      "metadata": {
        "colab": {
          "base_uri": "https://localhost:8080/",
          "height": 35
        },
        "id": "d-MqhBYzGEqV",
        "outputId": "03001f1e-b752-4ec2-d50f-c220b17fd51f"
      },
      "outputs": [
        {
          "data": {
            "application/vnd.google.colaboratory.intrinsic+json": {
              "type": "string"
            },
            "text/plain": [
              "'am'"
            ]
          },
          "execution_count": 17,
          "metadata": {},
          "output_type": "execute_result"
        }
      ],
      "source": [
        "# slicing in str\n",
        "str_1[1:3]"
      ]
    },
    {
      "cell_type": "code",
      "execution_count": null,
      "metadata": {
        "id": "UkX33xeYGL9_"
      },
      "outputs": [],
      "source": [
        "# Nested lists\n",
        "lst1 = [2,3.5,6j,('s',4,['a','b']),[22,'mgd']]"
      ]
    },
    {
      "cell_type": "code",
      "execution_count": null,
      "metadata": {
        "colab": {
          "base_uri": "https://localhost:8080/",
          "height": 35
        },
        "id": "Wk5xR2J-HTJ8",
        "outputId": "c909cf68-a46f-43cb-e0fc-50de7332a9a9"
      },
      "outputs": [
        {
          "data": {
            "application/vnd.google.colaboratory.intrinsic+json": {
              "type": "string"
            },
            "text/plain": [
              "'g'"
            ]
          },
          "execution_count": 24,
          "metadata": {},
          "output_type": "execute_result"
        }
      ],
      "source": [
        "lst1[-1][1][1]"
      ]
    },
    {
      "cell_type": "code",
      "execution_count": null,
      "metadata": {
        "colab": {
          "base_uri": "https://localhost:8080/"
        },
        "id": "3EniQv8wH6gO",
        "outputId": "8b64e295-21ff-4956-8409-d7c148371a41"
      },
      "outputs": [
        {
          "name": "stdout",
          "output_type": "stream",
          "text": [
            "enter a word:samaneh\n",
            "henamas\n"
          ]
        }
      ],
      "source": [
        "# reversed word\n",
        "\n",
        "word = input('enter a word:')\n",
        "reversed_word = word[::-1]\n",
        "print(reversed_word)"
      ]
    },
    {
      "cell_type": "code",
      "execution_count": null,
      "metadata": {
        "colab": {
          "base_uri": "https://localhost:8080/"
        },
        "id": "7COkQGxJK-6K",
        "outputId": "09981fdc-693b-4db4-91c7-1dd1a4945f82"
      },
      "outputs": [
        {
          "name": "stdout",
          "output_type": "stream",
          "text": [
            "hello, my friends\n"
          ]
        }
      ],
      "source": [
        "# function lower\n",
        "txt_string = \"HELLO, MY FRIENDS\"\n",
        "x = txt_string.lower()\n",
        "print(x)"
      ]
    },
    {
      "cell_type": "code",
      "execution_count": null,
      "metadata": {
        "colab": {
          "base_uri": "https://localhost:8080/"
        },
        "id": "GuXIzpunVair",
        "outputId": "b7eea3c5-5506-4387-977d-ecca583faae2"
      },
      "outputs": [
        {
          "name": "stdout",
          "output_type": "stream",
          "text": [
            "['apple', 'banana', 'cherry', 'orange']\n"
          ]
        }
      ],
      "source": [
        "# method append in list\n",
        "fruits_list = ['apple', 'banana', 'cherry']\n",
        "fruits_list.append(\"orange\")\n",
        "print(fruits_list)"
      ]
    },
    {
      "cell_type": "code",
      "execution_count": null,
      "metadata": {
        "colab": {
          "base_uri": "https://localhost:8080/"
        },
        "id": "gK_ITeO8Zisg",
        "outputId": "23ed7992-c5f4-45bd-8cb4-39d576d66a0a"
      },
      "outputs": [
        {
          "output_type": "stream",
          "name": "stdout",
          "text": [
            "{'a', 'b', 'c'} , <class 'set'>\n",
            "['a', 'b', 'b', 'b', 'c'] , <class 'list'>\n"
          ]
        }
      ],
      "source": [
        "# === set ===\n",
        "my_set = {\"a\",'b','b',\"b\",\"c\"}\n",
        "print(my_set,',',type(my_set))\n",
        "my_list3 = [\"a\",'b','b',\"b\",\"c\"]\n",
        "print(my_list3,',',type(my_list3))"
      ]
    },
    {
      "cell_type": "code",
      "source": [
        "# bool in list\n",
        "print(my_list3[1] == 'a')"
      ],
      "metadata": {
        "colab": {
          "base_uri": "https://localhost:8080/"
        },
        "id": "H_I-BTF0jzCg",
        "outputId": "1fcd56db-bc27-460f-9d2e-947a07d10315"
      },
      "execution_count": null,
      "outputs": [
        {
          "output_type": "stream",
          "name": "stdout",
          "text": [
            "False\n"
          ]
        }
      ]
    },
    {
      "cell_type": "code",
      "execution_count": null,
      "metadata": {
        "colab": {
          "base_uri": "https://localhost:8080/"
        },
        "id": "nn71BC-5KTOi",
        "outputId": "2ff6e0db-0a93-4614-9b0c-9ac6bd827071"
      },
      "outputs": [
        {
          "name": "stdout",
          "output_type": "stream",
          "text": [
            "{'brand': 'Ford', 'model': 'Mustang', 'year': 1964} , <class 'dict'>\n"
          ]
        }
      ],
      "source": [
        "# === Dictionaries ===\n",
        "my_dict1 =\t{\n",
        "  \"brand\": \"Ford\",\n",
        "  \"model\": \"Mustang\",\n",
        "  \"year\": 1964\n",
        "}\n",
        "print(my_dict1,',',type(my_dict1))"
      ]
    },
    {
      "cell_type": "code",
      "execution_count": null,
      "metadata": {
        "colab": {
          "base_uri": "https://localhost:8080/",
          "height": 35
        },
        "id": "77QKl83xMxZE",
        "outputId": "3a6e81a1-aa3d-4a55-84e4-abd996cdf2c2"
      },
      "outputs": [
        {
          "data": {
            "application/vnd.google.colaboratory.intrinsic+json": {
              "type": "string"
            },
            "text/plain": [
              "'Ford'"
            ]
          },
          "execution_count": 9,
          "metadata": {},
          "output_type": "execute_result"
        }
      ],
      "source": [
        "#print value\n",
        "my_dict1[\"brand\"]"
      ]
    },
    {
      "cell_type": "code",
      "execution_count": null,
      "metadata": {
        "colab": {
          "base_uri": "https://localhost:8080/"
        },
        "id": "a9oXkfUhRD8j",
        "outputId": "c9de65b1-489b-4b7b-8dc3-e5ccce9828c0"
      },
      "outputs": [
        {
          "name": "stdout",
          "output_type": "stream",
          "text": [
            "{'brand': 'Ford', 'model': 'Mustang', 'year': 1966, 'country': 'America'}\n"
          ]
        }
      ],
      "source": [
        "#Change the value or add an item\n",
        "my_dict1[\"year\"] = 1966\n",
        "my_dict1[\"country\"] = \"America\"\n",
        "print(my_dict1)"
      ]
    },
    {
      "cell_type": "code",
      "execution_count": null,
      "metadata": {
        "colab": {
          "base_uri": "https://localhost:8080/"
        },
        "id": "tVGUfrQUbqwC",
        "outputId": "2b9ff715-2ddf-459c-9857-649330c51c1d"
      },
      "outputs": [
        {
          "name": "stdout",
          "output_type": "stream",
          "text": [
            "dict_keys(['brand', 'model', 'year', 'country'])\n",
            "dict_values(['Ford', 'Mustang', 1966, 'America'])\n"
          ]
        }
      ],
      "source": [
        "#List of keys and values\n",
        "print(my_dict1.keys())\n",
        "print(my_dict1.values())\n"
      ]
    },
    {
      "cell_type": "code",
      "execution_count": null,
      "metadata": {
        "id": "lcNiZRRS1aSK"
      },
      "outputs": [],
      "source": [
        "my_dict1 =\t{\n",
        "  \"brand\": \"Ford\",\n",
        "  \"model\": \"Mustang\",\n",
        "  \"year\": 1964\n",
        "}"
      ]
    },
    {
      "cell_type": "code",
      "execution_count": null,
      "metadata": {
        "colab": {
          "base_uri": "https://localhost:8080/"
        },
        "id": "nZrl8FaR10jS",
        "outputId": "b205e899-b196-492f-ef7c-f498ef31726a"
      },
      "outputs": [
        {
          "name": "stdout",
          "output_type": "stream",
          "text": [
            "True\n"
          ]
        }
      ],
      "source": [
        "# bool in Dictionary\n",
        "print(my_dict1[\"year\"] == 1964)"
      ]
    },
    {
      "cell_type": "code",
      "execution_count": null,
      "metadata": {
        "colab": {
          "base_uri": "https://localhost:8080/"
        },
        "id": "k0de9iPY37ux",
        "outputId": "f13e7890-9761-485a-9a37-44a388155b35"
      },
      "outputs": [
        {
          "name": "stdout",
          "output_type": "stream",
          "text": [
            "False , <class 'bool'>\n"
          ]
        }
      ],
      "source": [
        "# booleans\n",
        "v_1 = 1 == 2\n",
        "print(v_1 ,',', type(v_1))"
      ]
    },
    {
      "cell_type": "code",
      "execution_count": null,
      "metadata": {
        "id": "6_01F_7_41pl"
      },
      "outputs": [],
      "source": [
        "# use int, float, str, list, dict and bool\n",
        "int_1 = 4\n",
        "float_1 = 10.75\n",
        "str_1 = \"samaneh\"\n",
        "list_1 = [\"x\", 2, \"d\", [1, 2, (\"x\", \"y\")]]\n",
        "dict_1 = {\"a\": [1,2,3], \"b\": {\"x\": 0}}\n",
        "bool_1 = True"
      ]
    },
    {
      "cell_type": "code",
      "execution_count": null,
      "metadata": {
        "id": "zjzFGIvbBPyM",
        "colab": {
          "base_uri": "https://localhost:8080/"
        },
        "outputId": "86dccb56-8edc-473f-8244-f4b14b0f251f"
      },
      "outputs": [
        {
          "output_type": "stream",
          "name": "stdout",
          "text": [
            "1: 14.75\n"
          ]
        }
      ],
      "source": [
        "# Addition operator\n",
        "print(\"1:\",int_1 + float_1 )"
      ]
    },
    {
      "cell_type": "code",
      "execution_count": null,
      "metadata": {
        "colab": {
          "base_uri": "https://localhost:8080/"
        },
        "id": "aSi44_7ZBnHq",
        "outputId": "1a83243e-b527-40f9-9d34-e75618a04a1b"
      },
      "outputs": [
        {
          "output_type": "stream",
          "name": "stdout",
          "text": [
            "2: samanehsamanehsamanehsamaneh\n"
          ]
        }
      ],
      "source": [
        "# Multiplication operator\n",
        "print(\"2:\", str_1 * int_1)"
      ]
    },
    {
      "cell_type": "code",
      "execution_count": null,
      "metadata": {
        "colab": {
          "base_uri": "https://localhost:8080/"
        },
        "id": "-lC83HmICE-V",
        "outputId": "6bbfc7dc-b7e5-42b0-8788-ab822ae683a5"
      },
      "outputs": [
        {
          "output_type": "stream",
          "name": "stdout",
          "text": [
            "abcd\n"
          ]
        }
      ],
      "source": [
        "# Addition operator\n",
        "str1 = \"ab\"\n",
        "str2 = \"cd\"\n",
        "print(str1 + str2)"
      ]
    },
    {
      "cell_type": "code",
      "source": [
        "# Addition operator\n",
        "print(\"3:\", list_1 + list_1)"
      ],
      "metadata": {
        "colab": {
          "base_uri": "https://localhost:8080/"
        },
        "id": "BNtdCefUdGqN",
        "outputId": "9d9ba3c4-5ce5-4eda-c7e6-674379a34b1b"
      },
      "execution_count": null,
      "outputs": [
        {
          "output_type": "stream",
          "name": "stdout",
          "text": [
            "3: ['x', 2, 'd', [1, 2, ('x', 'y')], 'x', 2, 'd', [1, 2, ('x', 'y')]]\n"
          ]
        }
      ]
    },
    {
      "cell_type": "code",
      "source": [
        "# # Multiplication operator\n",
        "print(\"3:\", list_1 * 2)"
      ],
      "metadata": {
        "colab": {
          "base_uri": "https://localhost:8080/"
        },
        "id": "5GlDGiaOdwBi",
        "outputId": "09f6067f-9c4d-4c1f-af96-57b431d4fc20"
      },
      "execution_count": null,
      "outputs": [
        {
          "output_type": "stream",
          "name": "stdout",
          "text": [
            "3: ['x', 2, 'd', [1, 2, ('x', 'y')], 'x', 2, 'd', [1, 2, ('x', 'y')]]\n"
          ]
        }
      ]
    },
    {
      "cell_type": "code",
      "source": [
        "# Multiplication operator\n",
        "tuple_1 = ('a', 1)\n",
        "print(\"4:\", tuple_1 + tuple_1)\n",
        "print(\"4:\", tuple_1 * 2)"
      ],
      "metadata": {
        "colab": {
          "base_uri": "https://localhost:8080/"
        },
        "id": "rrcNdsuxdx1F",
        "outputId": "601c9a68-dde5-431e-fb47-9a2a4ef01439"
      },
      "execution_count": null,
      "outputs": [
        {
          "output_type": "stream",
          "name": "stdout",
          "text": [
            "4: ('a', 1, 'a', 1)\n",
            "4: ('a', 1, 'a', 1)\n"
          ]
        }
      ]
    },
    {
      "cell_type": "code",
      "source": [
        "print(\"5:\", int_1 / 2) # Division operator with decimals\n",
        "print(\"5:\", int_1 // 2) # Division operator with no decimals\n",
        "print(\"5:\", int_1 % 2) # Remainder operator"
      ],
      "metadata": {
        "colab": {
          "base_uri": "https://localhost:8080/"
        },
        "id": "RarsC1ZIeALt",
        "outputId": "b3faba64-8d8f-4809-c102-43d1cdb361d9"
      },
      "execution_count": null,
      "outputs": [
        {
          "output_type": "stream",
          "name": "stdout",
          "text": [
            "5: 2.0\n",
            "5: 2\n",
            "5: 0\n"
          ]
        }
      ]
    },
    {
      "cell_type": "code",
      "source": [
        "# Addition operator\n",
        "int_1 += float_1\n",
        "print(\"6:\", int_1)"
      ],
      "metadata": {
        "colab": {
          "base_uri": "https://localhost:8080/"
        },
        "id": "IKSKCy8-eIsA",
        "outputId": "c5b130c8-7400-476c-b47c-0fbd162adfb9"
      },
      "execution_count": null,
      "outputs": [
        {
          "output_type": "stream",
          "name": "stdout",
          "text": [
            "6: 14.75\n"
          ]
        }
      ]
    },
    {
      "cell_type": "code",
      "source": [
        "# compound assignment operators(AND)\n",
        "print(\"7:\", bool_1)\n",
        "\n",
        "bool_1 &= False\n",
        "print(\"7:\", bool_1)"
      ],
      "metadata": {
        "colab": {
          "base_uri": "https://localhost:8080/"
        },
        "id": "oK-Xh7pAeQWr",
        "outputId": "7e63bcc9-caf4-410d-f33b-9493d03c75d4"
      },
      "execution_count": null,
      "outputs": [
        {
          "output_type": "stream",
          "name": "stdout",
          "text": [
            "7: True\n",
            "7: False\n"
          ]
        }
      ]
    },
    {
      "cell_type": "code",
      "source": [
        "# compound assignment operators(OR)\n",
        "bool_1 |= True\n",
        "print(\"7:\", bool_1)"
      ],
      "metadata": {
        "colab": {
          "base_uri": "https://localhost:8080/"
        },
        "id": "8zMJnqD9eSSg",
        "outputId": "0b68e070-13e6-4efa-d840-b30b4f9710b2"
      },
      "execution_count": null,
      "outputs": [
        {
          "output_type": "stream",
          "name": "stdout",
          "text": [
            "7: True\n"
          ]
        }
      ]
    }
  ],
  "metadata": {
    "colab": {
      "provenance": [],
      "authorship_tag": "ABX9TyN7bGhAvayHNbEXUfzb4aZB",
      "include_colab_link": true
    },
    "kernelspec": {
      "display_name": "Python 3",
      "name": "python3"
    },
    "language_info": {
      "name": "python"
    }
  },
  "nbformat": 4,
  "nbformat_minor": 0
}